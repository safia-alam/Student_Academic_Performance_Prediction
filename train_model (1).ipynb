{
 "cells": [
  {
   "cell_type": "code",
   "execution_count": 10,
   "id": "0f9773c4-20de-45e6-9dee-3fee9c1bb735",
   "metadata": {},
   "outputs": [
    {
     "name": "stdout",
     "output_type": "stream",
     "text": [
      "✅ Model trained and saved at: D:\\resume project\\Student_Academic_Performance_Prediction\\models\\best_model.pkl\n"
     ]
    }
   ],
   "source": [
    "import os\n",
    "import pandas as pd\n",
    "from sklearn.compose import ColumnTransformer\n",
    "from sklearn.preprocessing import OneHotEncoder\n",
    "from sklearn.pipeline import Pipeline\n",
    "from sklearn.ensemble import RandomForestRegressor\n",
    "import joblib\n",
    "\n",
    "# ==== 1. LOAD DATASET ====\n",
    "# Absolute path to your CSV file\n",
    "dataset_path = r\"D:\\resume project\\Student_Academic_Performance_Prediction\\StudentsPerformance.csv\"\n",
    "df = pd.read_csv(dataset_path)\n",
    "\n",
    "# ==== 2. FEATURES & TARGET ====\n",
    "cat_features = [\"gender\", \"race/ethnicity\", \"parental level of education\", \"lunch\", \"test preparation course\"]\n",
    "num_features = [\"math score\", \"reading score\", \"writing score\"]\n",
    "target = df[[\"math score\", \"reading score\", \"writing score\"]].mean(axis=1)  # average score\n",
    "\n",
    "# ==== 3. PIPELINE ====\n",
    "pre = ColumnTransformer([\n",
    "    (\"cat\", OneHotEncoder(handle_unknown=\"ignore\"), cat_features),\n",
    "    (\"num\", \"passthrough\", num_features),\n",
    "])\n",
    "\n",
    "model = RandomForestRegressor(n_estimators=50, random_state=42)\n",
    "pipe = Pipeline([(\"pre\", pre), (\"model\", model)])\n",
    "\n",
    "# ==== 4. TRAIN ====\n",
    "pipe.fit(df[cat_features + num_features], target)\n",
    "\n",
    "# ==== 5. SAVE MODEL ====\n",
    "model_dir = r\"D:\\resume project\\Student_Academic_Performance_Prediction\\models\"\n",
    "os.makedirs(model_dir, exist_ok=True)\n",
    "model_path = os.path.join(model_dir, \"best_model.pkl\")\n",
    "joblib.dump(pipe, model_path)\n",
    "\n",
    "print(f\"✅ Model trained and saved at: {model_path}\")\n"
   ]
  },
  {
   "cell_type": "code",
   "execution_count": 12,
   "id": "79bd343e-4346-48fb-8194-00775f312613",
   "metadata": {},
   "outputs": [
    {
     "name": "stdout",
     "output_type": "stream",
     "text": [
      "Model saved to models\\best_model.pkl\n"
     ]
    }
   ],
   "source": [
    "import os\n",
    "import joblib\n",
    "\n",
    "MODEL_PATH = os.path.join(\"models\", \"best_model.pkl\")\n",
    "os.makedirs(\"models\", exist_ok=True)\n",
    "\n",
    "joblib.dump(pipe, MODEL_PATH)  # pipe is your trained pipeline\n",
    "print(f\"Model saved to {MODEL_PATH}\")\n"
   ]
  },
  {
   "cell_type": "code",
   "execution_count": 3,
   "id": "72044d00-dba8-4870-a568-e88777387a5b",
   "metadata": {},
   "outputs": [
    {
     "name": "stdout",
     "output_type": "stream",
     "text": [
      "✅ Model trained and saved successfully as best_model.pkl\n"
     ]
    }
   ],
   "source": [
    "# ==== TRAIN & SAVE MODEL SCRIPT ====\n",
    "\n",
    "import pandas as pd\n",
    "import joblib\n",
    "from sklearn.model_selection import train_test_split\n",
    "from sklearn.preprocessing import OneHotEncoder, StandardScaler\n",
    "from sklearn.compose import ColumnTransformer\n",
    "from sklearn.pipeline import Pipeline\n",
    "from sklearn.ensemble import RandomForestRegressor\n",
    "\n",
    "# 1. Load dataset (update if your filename is different)\n",
    "dataset_path = r\"D:\\resume project\\Student_Academic_Performance_Prediction\\StudentsPerformance.csv\"\n",
    "df = pd.read_csv(dataset_path)\n",
    "\n",
    "# 2. Features & Target\n",
    "X = df.drop(columns=[\"math score\", \"reading score\", \"writing score\"])\n",
    "y = df[[\"math score\", \"reading score\", \"writing score\"]].mean(axis=1)  # average score\n",
    "\n",
    "# 3. Categorical & numeric columns\n",
    "cat_features = [\"gender\", \"race/ethnicity\", \"parental level of education\", \"lunch\", \"test preparation course\"]\n",
    "\n",
    "# 4. Preprocessing\n",
    "preprocessor = ColumnTransformer([\n",
    "    (\"cat\", OneHotEncoder(handle_unknown=\"ignore\"), cat_features),\n",
    "    (\"num\", StandardScaler(), [])\n",
    "], remainder=\"passthrough\")\n",
    "\n",
    "# 5. Pipeline (preprocessing + model)\n",
    "pipe = Pipeline([\n",
    "    (\"preprocessor\", preprocessor),\n",
    "    (\"model\", RandomForestRegressor(n_estimators=100, random_state=42))\n",
    "])\n",
    "\n",
    "# 6. Train-test split\n",
    "X_train, X_test, y_train, y_test = train_test_split(X, y, test_size=0.2, random_state=42)\n",
    "\n",
    "# 7. Train model\n",
    "pipe.fit(X_train, y_train)\n",
    "\n",
    "# 8. Save trained pipeline as best_model.pkl\n",
    "joblib.dump(pipe, r\"D:\\resume project\\Student_Academic_Performance_Prediction\\models\\best_model.pkl\")\n",
    "\n",
    "print(\"✅ Model trained and saved successfully as best_model.pkl\")\n"
   ]
  },
  {
   "cell_type": "code",
   "execution_count": 5,
   "id": "d4643eef-e910-4bf2-9d43-9b19bd22d025",
   "metadata": {},
   "outputs": [
    {
     "name": "stdout",
     "output_type": "stream",
     "text": [
      "✅ Model loaded successfully: <class 'sklearn.pipeline.Pipeline'>\n"
     ]
    }
   ],
   "source": [
    "import joblib\n",
    "\n",
    "model_path = r\"D:\\resume project\\Student_Academic_Performance_Prediction\\models\\best_model.pkl\"\n",
    "model = joblib.load(model_path)\n",
    "\n",
    "print(\"✅ Model loaded successfully:\", type(model))\n"
   ]
  },
  {
   "cell_type": "code",
   "execution_count": 7,
   "id": "2ebdc079-25e9-4434-a129-3f1d7c7966bc",
   "metadata": {},
   "outputs": [
    {
     "name": "stderr",
     "output_type": "stream",
     "text": [
      "2025-08-17 21:21:47.251 \n",
      "  \u001b[33m\u001b[1mWarning:\u001b[0m to view this Streamlit app on a browser, run it with the following\n",
      "  command:\n",
      "\n",
      "    streamlit run D:\\ProgramData\\Lib\\site-packages\\ipykernel_launcher.py [ARGUMENTS]\n"
     ]
    }
   ],
   "source": [
    "import joblib\n",
    "import streamlit as st\n",
    "import os\n",
    "\n",
    "# Path to model\n",
    "MODEL_PATH = \"models/best_model.pkl\"\n",
    "\n",
    "# Try to load model\n",
    "model = None\n",
    "if os.path.exists(MODEL_PATH):\n",
    "    try:\n",
    "        model = joblib.load(MODEL_PATH)\n",
    "        st.success(\"✅ Model loaded successfully! You are using the trained model.\")\n",
    "    except Exception as e:\n",
    "        st.error(f\"⚠️ Found model file but could not load it. Using fallback model. Error: {e}\")\n",
    "else:\n",
    "    st.error(\"❌ No trained model found. Using fallback model.\")\n"
   ]
  },
  {
   "cell_type": "code",
   "execution_count": 10,
   "id": "3d88e58e-a8a0-4c29-a88f-731e75209117",
   "metadata": {},
   "outputs": [
    {
     "name": "stdout",
     "output_type": "stream",
     "text": [
      "✅ Trained model saved successfully!\n"
     ]
    }
   ],
   "source": [
    "import pandas as pd\n",
    "from sklearn.compose import ColumnTransformer\n",
    "from sklearn.preprocessing import OneHotEncoder\n",
    "from sklearn.pipeline import Pipeline\n",
    "from sklearn.ensemble import RandomForestRegressor\n",
    "import joblib\n",
    "\n",
    "# ==== 1. Load dataset ====\n",
    "df = pd.read_csv(r\"D:\\resume project\\Student_Academic_Performance_Prediction\\StudentsPerformance.csv\")\n",
    "\n",
    "# ==== 2. Features & Target ====\n",
    "cat_features = [\"gender\", \"race/ethnicity\", \"parental level of education\", \"lunch\", \"test preparation course\"]\n",
    "num_features = [\"math score\", \"reading score\", \"writing score\"]\n",
    "\n",
    "X = df[cat_features + num_features]\n",
    "y = df[num_features].mean(axis=1)   # target = average score\n",
    "\n",
    "# ==== 3. Preprocessing + Model ====\n",
    "pre = ColumnTransformer([\n",
    "    (\"cat\", OneHotEncoder(handle_unknown=\"ignore\"), cat_features),\n",
    "    (\"num\", \"passthrough\", num_features)\n",
    "])\n",
    "\n",
    "model = RandomForestRegressor(n_estimators=100, random_state=42)\n",
    "\n",
    "pipe = Pipeline([\n",
    "    (\"pre\", pre),\n",
    "    (\"model\", model)\n",
    "])\n",
    "\n",
    "# ==== 4. Train ====\n",
    "pipe.fit(X, y)\n",
    "\n",
    "# ==== 5. Save trained model ====\n",
    "joblib.dump(pipe, r\"D:\\resume project\\Student_Academic_Performance_Prediction\\models\\best_model.pkl\")\n",
    "\n",
    "print(\"✅ Trained model saved successfully!\")\n"
   ]
  },
  {
   "cell_type": "code",
   "execution_count": null,
   "id": "343d4732-8064-4099-989b-f86fd0a8694c",
   "metadata": {},
   "outputs": [],
   "source": []
  }
 ],
 "metadata": {
  "kernelspec": {
   "display_name": "Python [conda env:base]",
   "language": "python",
   "name": "conda-base-py"
  },
  "language_info": {
   "codemirror_mode": {
    "name": "ipython",
    "version": 3
   },
   "file_extension": ".py",
   "mimetype": "text/x-python",
   "name": "python",
   "nbconvert_exporter": "python",
   "pygments_lexer": "ipython3",
   "version": "3.12.7"
  }
 },
 "nbformat": 4,
 "nbformat_minor": 5
}
